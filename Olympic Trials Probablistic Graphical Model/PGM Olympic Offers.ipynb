{
 "cells": [
  {
   "cell_type": "code",
   "execution_count": 31,
   "metadata": {},
   "outputs": [],
   "source": [
    "# PGM intro"
   ]
  },
  {
   "cell_type": "code",
   "execution_count": 8,
   "metadata": {},
   "outputs": [],
   "source": [
    "from pgmpy.factors.discrete import TabularCPD\n",
    "from pgmpy.models import BayesianModel"
   ]
  },
  {
   "cell_type": "code",
   "execution_count": 9,
   "metadata": {},
   "outputs": [],
   "source": [
    "#set a basic structure\n",
    "wc_model = BayesianModel([('Genetics', 'Performance'),('Practice','Performance'), ('Performance','Offer')])"
   ]
  },
  {
   "cell_type": "code",
   "execution_count": 10,
   "metadata": {},
   "outputs": [],
   "source": [
    "#set up relationship\n",
    "genetics_cpd = TabularCPD(variable ='Genetics', variable_card = 2, values = [[.2,.8]])"
   ]
  },
  {
   "cell_type": "code",
   "execution_count": 11,
   "metadata": {},
   "outputs": [],
   "source": [
    "practice_cpd = TabularCPD(variable ='Practice', variable_card = 2, values = [[.7,.3]])"
   ]
  },
  {
   "cell_type": "code",
   "execution_count": 12,
   "metadata": {},
   "outputs": [],
   "source": [
    "offer_cpd = TabularCPD(variable ='Offer', \n",
    "                       variable_card = 2, \n",
    "                       values = [[.95,.8,.5],\n",
    "                                 [.05, .2, .5]],\n",
    "                      evidence = ['Performance'],\n",
    "                      evidence_card = [3])"
   ]
  },
  {
   "cell_type": "code",
   "execution_count": 13,
   "metadata": {},
   "outputs": [],
   "source": [
    "wc_trials_cpd = TabularCPD(variable ='Performance', \n",
    "                           variable_card = 3,\n",
    "                           values = [[.5, .8, .8, .9],\n",
    "                                     [.3, .15, .1, .08],\n",
    "                                     [.2, .05, .1, .02]],\n",
    "                      evidence = ['Genetics', 'Practice'],\n",
    "                      evidence_card = [2,2])"
   ]
  },
  {
   "cell_type": "code",
   "execution_count": 14,
   "metadata": {},
   "outputs": [],
   "source": [
    "# add the relationships to the model\n",
    "wc_model.add_cpds(genetics_cpd, practice_cpd, offer_cpd, wc_trials_cpd)"
   ]
  },
  {
   "cell_type": "code",
   "execution_count": 15,
   "metadata": {},
   "outputs": [
    {
     "data": {
      "text/plain": [
       "[<TabularCPD representing P(Genetics:2) at 0x9c6cf60>,\n",
       " <TabularCPD representing P(Practice:2) at 0x9c6cb38>,\n",
       " <TabularCPD representing P(Offer:2 | Performance:3) at 0x9c6c470>,\n",
       " <TabularCPD representing P(Performance:3 | Genetics:2, Practice:2) at 0x9c940b8>]"
      ]
     },
     "execution_count": 15,
     "metadata": {},
     "output_type": "execute_result"
    }
   ],
   "source": [
    "# examine the structure of the graph\n",
    "wc_model.get_cpds()"
   ]
  },
  {
   "cell_type": "code",
   "execution_count": 16,
   "metadata": {},
   "outputs": [
    {
     "data": {
      "text/plain": [
       "{'Genetics': {'Genetics', 'Offer', 'Performance'}}"
      ]
     },
     "execution_count": 16,
     "metadata": {},
     "output_type": "execute_result"
    }
   ],
   "source": [
    "# find active trail nodes\n",
    "wc_model.active_trail_nodes('Genetics')"
   ]
  },
  {
   "cell_type": "code",
   "execution_count": 20,
   "metadata": {},
   "outputs": [
    {
     "data": {
      "text/plain": [
       "(Genetics _|_ Practice)\n",
       "(Genetics _|_ Offer | Performance)\n",
       "(Genetics _|_ Offer | Performance, Practice)\n",
       "(Practice _|_ Genetics)\n",
       "(Practice _|_ Offer | Performance)\n",
       "(Practice _|_ Offer | Performance, Genetics)\n",
       "(Offer _|_ Genetics, Practice | Performance)\n",
       "(Offer _|_ Practice | Performance, Genetics)\n",
       "(Offer _|_ Genetics | Performance, Practice)"
      ]
     },
     "execution_count": 20,
     "metadata": {},
     "output_type": "execute_result"
    }
   ],
   "source": [
    "# find local independencies\n",
    "wc_model.get_independencies()"
   ]
  },
  {
   "cell_type": "code",
   "execution_count": 21,
   "metadata": {},
   "outputs": [],
   "source": [
    "# making inferences\n",
    "# we can get probability distributions that are not explicitely spelled out in our graphs\n",
    "from pgmpy.inference import VariableElimination\n"
   ]
  },
  {
   "cell_type": "code",
   "execution_count": 24,
   "metadata": {},
   "outputs": [],
   "source": [
    "wc_infer = VariableElimination(wc_model)"
   ]
  },
  {
   "cell_type": "code",
   "execution_count": 27,
   "metadata": {},
   "outputs": [
    {
     "name": "stdout",
     "output_type": "stream",
     "text": [
      "╒═════════╤══════════════╕\n",
      "│ Offer   │   phi(Offer) │\n",
      "╞═════════╪══════════════╡\n",
      "│ Offer_0 │       0.8898 │\n",
      "├─────────┼──────────────┤\n",
      "│ Offer_1 │       0.1102 │\n",
      "╘═════════╧══════════════╛\n"
     ]
    }
   ],
   "source": [
    "prob_offer = wc_infer.query(variables = ['Offer'])\n",
    "print(prob_offer['Offer'])"
   ]
  },
  {
   "cell_type": "code",
   "execution_count": 30,
   "metadata": {},
   "outputs": [
    {
     "name": "stdout",
     "output_type": "stream",
     "text": [
      "╒═════════╤══════════════╕\n",
      "│ Offer   │   phi(Offer) │\n",
      "╞═════════╪══════════════╡\n",
      "│ Offer_0 │       0.9017 │\n",
      "├─────────┼──────────────┤\n",
      "│ Offer_1 │       0.0983 │\n",
      "╘═════════╧══════════════╛\n"
     ]
    }
   ],
   "source": [
    "prob_offer_bad_genes = wc_infer.query(variables = ['Offer'],\n",
    "                                     evidence = {'Genetics':1})\n",
    "print(prob_offer_bad_genes['Offer'])"
   ]
  },
  {
   "cell_type": "code",
   "execution_count": null,
   "metadata": {},
   "outputs": [],
   "source": []
  }
 ],
 "metadata": {
  "kernelspec": {
   "display_name": "Python [conda env:health]",
   "language": "python",
   "name": "conda-env-health-py"
  },
  "language_info": {
   "codemirror_mode": {
    "name": "ipython",
    "version": 3
   },
   "file_extension": ".py",
   "mimetype": "text/x-python",
   "name": "python",
   "nbconvert_exporter": "python",
   "pygments_lexer": "ipython3",
   "version": "3.5.2"
  }
 },
 "nbformat": 4,
 "nbformat_minor": 2
}
